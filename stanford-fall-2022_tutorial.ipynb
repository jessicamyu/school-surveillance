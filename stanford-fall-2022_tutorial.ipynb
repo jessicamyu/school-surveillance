{
  "metadata": {
    "kernelspec": {
      "name": "python",
      "display_name": "Python (Pyodide)",
      "language": "python"
    },
    "language_info": {
      "codemirror_mode": {
        "name": "python",
        "version": 3
      },
      "file_extension": ".py",
      "mimetype": "text/x-python",
      "name": "python",
      "nbconvert_exporter": "python",
      "pygments_lexer": "ipython3",
      "version": "3.8"
    }
  },
  "nbformat_minor": 5,
  "nbformat": 4,
  "cells": [
    {
      "cell_type": "markdown",
      "source": "# First Python Notebook: Stanford Fall 2022 edition\n\nAn guide to analyzing money in politics with the [Python](https://www.python.org/) programming language and a [Jupyter](https://jupyter.org/) notebook\n   \nBy [Ben Welsh](https://palewi.re/who-is-ben-welsh/)",
      "metadata": {},
      "id": "37529264-50ff-4bf6-ba7f-0b67d1cafbf5"
    },
    {
      "cell_type": "markdown",
      "source": "First developed in 2016, [\"First Python Notebook\"](https://palewi.re/docs/first-python-notebook/) is a tutorial that guides students through a data-driven investigation of money in California politics. It is most commonly taught as a six-hour, in-person class. This document is an updated, and abbreviated, spin-off for Stanford students in the fall 2022 semester\n\nYou will learn just enough of the Python computer programming language to work with the [pandas](https://pandas.pydata.org/) library, a popular open-source tool for analyzing data. The course will teach you how to read, filter, join, group, aggregate and rank structured data by developing an investigation of the money raised to campaign for ballot measures in the upcoming November election.\n\nThe class, which we will code together live below, walks through [the standard \"First Python Notebook\" tutorial](https://palewi.re/docs/first-python-notebook/index.htmlhttps://palewi.re/docs/first-python-notebook/index.html), substituting in data files from the current campaign.",
      "metadata": {},
      "id": "2b3934dd-a0b6-4d99-9ad4-4370318e8f69"
    },
    {
      "cell_type": "code",
      "source": "2+2",
      "metadata": {
        "trusted": true
      },
      "execution_count": 1,
      "outputs": [
        {
          "execution_count": 1,
          "output_type": "execute_result",
          "data": {
            "text/plain": "4"
          },
          "metadata": {}
        }
      ],
      "id": "60b6bfcd-9432-4dda-9085-d4d7af3fd199"
    },
    {
      "cell_type": "code",
      "source": "number = 2 + 3 + 3",
      "metadata": {
        "trusted": true
      },
      "execution_count": 2,
      "outputs": [],
      "id": "a9033527-027f-4c6f-b8c7-e713e280d563"
    },
    {
      "cell_type": "code",
      "source": "number",
      "metadata": {
        "trusted": true
      },
      "execution_count": 3,
      "outputs": [
        {
          "execution_count": 3,
          "output_type": "execute_result",
          "data": {
            "text/plain": "8"
          },
          "metadata": {}
        }
      ],
      "id": "ab8d39d2-fc89-45d6-b8db-cfc9e4b6d20b"
    },
    {
      "cell_type": "code",
      "source": "import pandas as pd",
      "metadata": {
        "trusted": true
      },
      "execution_count": 5,
      "outputs": [],
      "id": "556874cc-d878-47eb-bb35-6c8f52fd052e"
    },
    {
      "cell_type": "code",
      "source": "my_list = [1, 3, 5, 7, 9, 3, 3, 3, 62, 2.5]",
      "metadata": {
        "trusted": true
      },
      "execution_count": 18,
      "outputs": [],
      "id": "01d2fe9a-225a-4136-9fd7-205ededebe75"
    },
    {
      "cell_type": "code",
      "source": "my_series = pd.Series(my_list)",
      "metadata": {
        "trusted": true
      },
      "execution_count": 19,
      "outputs": [],
      "id": "4504a01e-fafa-4150-a546-dcef646046b7"
    },
    {
      "cell_type": "code",
      "source": "my_series.sum()",
      "metadata": {
        "trusted": true
      },
      "execution_count": 20,
      "outputs": [
        {
          "execution_count": 20,
          "output_type": "execute_result",
          "data": {
            "text/plain": "98.5"
          },
          "metadata": {}
        }
      ],
      "id": "7efc7f2f-17c9-4212-9fc6-2de6ea36a94f"
    },
    {
      "cell_type": "code",
      "source": "my_series.max()",
      "metadata": {
        "trusted": true
      },
      "execution_count": 21,
      "outputs": [
        {
          "execution_count": 21,
          "output_type": "execute_result",
          "data": {
            "text/plain": "62.0"
          },
          "metadata": {}
        }
      ],
      "id": "e549fa21-da8e-4b0d-ae44-01280392beb1"
    },
    {
      "cell_type": "code",
      "source": "my_series.min()",
      "metadata": {
        "trusted": true
      },
      "execution_count": 22,
      "outputs": [
        {
          "execution_count": 22,
          "output_type": "execute_result",
          "data": {
            "text/plain": "1.0"
          },
          "metadata": {}
        }
      ],
      "id": "7b67a5a7-2183-474a-a4d9-5d732d5d1890"
    },
    {
      "cell_type": "code",
      "source": "my_series.mean()",
      "metadata": {
        "trusted": true
      },
      "execution_count": 23,
      "outputs": [
        {
          "execution_count": 23,
          "output_type": "execute_result",
          "data": {
            "text/plain": "9.85"
          },
          "metadata": {}
        }
      ],
      "id": "716c0d84-c5e7-4ed7-9719-75881f7c749b"
    },
    {
      "cell_type": "code",
      "source": "my_series.median()",
      "metadata": {
        "trusted": true
      },
      "execution_count": 24,
      "outputs": [
        {
          "execution_count": 24,
          "output_type": "execute_result",
          "data": {
            "text/plain": "3.0"
          },
          "metadata": {}
        }
      ],
      "id": "8ea2a6fe-3a30-4bad-b0b6-7310d923acf0"
    },
    {
      "cell_type": "code",
      "source": "my_series.std()",
      "metadata": {
        "trusted": true
      },
      "execution_count": 25,
      "outputs": [
        {
          "execution_count": 25,
          "output_type": "execute_result",
          "data": {
            "text/plain": "18.47528378973138"
          },
          "metadata": {}
        }
      ],
      "id": "182822a5-668c-4cd8-8317-c5dcb6a2f7f1"
    },
    {
      "cell_type": "code",
      "source": "my_series.describe()",
      "metadata": {
        "trusted": true
      },
      "execution_count": 26,
      "outputs": [
        {
          "execution_count": 26,
          "output_type": "execute_result",
          "data": {
            "text/plain": "count    10.000000\nmean      9.850000\nstd      18.475284\nmin       1.000000\n25%       3.000000\n50%       3.000000\n75%       6.500000\nmax      62.000000\ndtype: float64"
          },
          "metadata": {}
        }
      ],
      "id": "ca9574f7-2a0e-4683-a273-71f65af35d0f"
    },
    {
      "cell_type": "code",
      "source": "committee_list = pd.read_csv(\"committees.csv\")",
      "metadata": {
        "trusted": true
      },
      "execution_count": 28,
      "outputs": [],
      "id": "ea9387e6-71f6-4b2b-acf3-98cdc11c1c05"
    },
    {
      "cell_type": "code",
      "source": "committee_list.head() # first five rows",
      "metadata": {
        "trusted": true
      },
      "execution_count": 30,
      "outputs": [
        {
          "execution_count": 30,
          "output_type": "execute_result",
          "data": {
            "text/plain": "   filer_id                                               name  proposition  \\\n0   1451868         WOMEN FOR REPRODUCTIVE FACTS- NO ON PROP 1            1   \n1   1449991           CALIFORNIA TOGETHER, NO ON PROPOSITION 1            1   \n2   1357909  ATKINS BALLOT MEASURE COMMITTEE; YES ON PROPOS...            1   \n3   1452181  PLANNED PARENTHOOD ADVOCACY PROJECT LOS ANGELE...            1   \n4   1425966  NO ON THE GAMBLING POWER GRAB: A COMMITTEE OF ...           26   \n\n  position  \n0   oppose  \n1   oppose  \n2  support  \n3  support  \n4   oppose  ",
            "text/html": "<div>\n<style scoped>\n    .dataframe tbody tr th:only-of-type {\n        vertical-align: middle;\n    }\n\n    .dataframe tbody tr th {\n        vertical-align: top;\n    }\n\n    .dataframe thead th {\n        text-align: right;\n    }\n</style>\n<table border=\"1\" class=\"dataframe\">\n  <thead>\n    <tr style=\"text-align: right;\">\n      <th></th>\n      <th>filer_id</th>\n      <th>name</th>\n      <th>proposition</th>\n      <th>position</th>\n    </tr>\n  </thead>\n  <tbody>\n    <tr>\n      <th>0</th>\n      <td>1451868</td>\n      <td>WOMEN FOR REPRODUCTIVE FACTS- NO ON PROP 1</td>\n      <td>1</td>\n      <td>oppose</td>\n    </tr>\n    <tr>\n      <th>1</th>\n      <td>1449991</td>\n      <td>CALIFORNIA TOGETHER, NO ON PROPOSITION 1</td>\n      <td>1</td>\n      <td>oppose</td>\n    </tr>\n    <tr>\n      <th>2</th>\n      <td>1357909</td>\n      <td>ATKINS BALLOT MEASURE COMMITTEE; YES ON PROPOS...</td>\n      <td>1</td>\n      <td>support</td>\n    </tr>\n    <tr>\n      <th>3</th>\n      <td>1452181</td>\n      <td>PLANNED PARENTHOOD ADVOCACY PROJECT LOS ANGELE...</td>\n      <td>1</td>\n      <td>support</td>\n    </tr>\n    <tr>\n      <th>4</th>\n      <td>1425966</td>\n      <td>NO ON THE GAMBLING POWER GRAB: A COMMITTEE OF ...</td>\n      <td>26</td>\n      <td>oppose</td>\n    </tr>\n  </tbody>\n</table>\n</div>"
          },
          "metadata": {}
        }
      ],
      "id": "90817744-489c-4778-8194-f7a0a84a06ab"
    },
    {
      "cell_type": "code",
      "source": "committee_list.info()",
      "metadata": {
        "trusted": true
      },
      "execution_count": 31,
      "outputs": [
        {
          "name": "stdout",
          "text": "<class 'pandas.core.frame.DataFrame'>\nRangeIndex: 21 entries, 0 to 20\nData columns (total 4 columns):\n #   Column       Non-Null Count  Dtype \n---  ------       --------------  ----- \n 0   filer_id     21 non-null     int64 \n 1   name         21 non-null     object\n 2   proposition  21 non-null     int64 \n 3   position     21 non-null     object\ndtypes: int64(2), object(2)\nmemory usage: 572.0+ bytes\n",
          "output_type": "stream"
        }
      ],
      "id": "721e56b1-f51c-4198-93df-7caafa6a1db7"
    },
    {
      "cell_type": "code",
      "source": "committee_list.position # dataframe to series",
      "metadata": {
        "trusted": true
      },
      "execution_count": 36,
      "outputs": [
        {
          "execution_count": 36,
          "output_type": "execute_result",
          "data": {
            "text/plain": "0      oppose\n1      oppose\n2     support\n3     support\n4      oppose\n5     support\n6      oppose\n7     support\n8      oppose\n9      oppose\n10    support\n11    support\n12    support\n13     oppose\n14     oppose\n15     oppose\n16    support\n17    support\n18    support\n19    support\n20     oppose\nName: position, dtype: object"
          },
          "metadata": {}
        }
      ],
      "id": "74862785-eaca-4e7e-b415-ef5cf759997a"
    },
    {
      "cell_type": "code",
      "source": "committee_list.position.value_counts()",
      "metadata": {
        "trusted": true
      },
      "execution_count": 37,
      "outputs": [
        {
          "execution_count": 37,
          "output_type": "execute_result",
          "data": {
            "text/plain": "support    11\noppose     10\nName: position, dtype: int64"
          },
          "metadata": {}
        }
      ],
      "id": "b92c8fa6-cba8-4e7e-94c7-d922b4176677"
    },
    {
      "cell_type": "code",
      "source": "committee_list.proposition.value_counts()",
      "metadata": {
        "trusted": true
      },
      "execution_count": 38,
      "outputs": [
        {
          "execution_count": 38,
          "output_type": "execute_result",
          "data": {
            "text/plain": "30    5\n1     4\n26    3\n27    3\n29    3\n31    2\n28    1\nName: proposition, dtype: int64"
          },
          "metadata": {}
        }
      ],
      "id": "30cbadef-9c97-446b-9b09-396cbc7ae8c5"
    },
    {
      "cell_type": "code",
      "source": "",
      "metadata": {},
      "execution_count": null,
      "outputs": [],
      "id": "26126f5d-74db-4dda-9e2d-a98a1ca472c3"
    }
  ]
}