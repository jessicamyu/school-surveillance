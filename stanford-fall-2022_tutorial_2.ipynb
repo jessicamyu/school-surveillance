{
  "metadata": {
    "kernelspec": {
      "name": "python",
      "display_name": "Python (Pyodide)",
      "language": "python"
    },
    "language_info": {
      "codemirror_mode": {
        "name": "python",
        "version": 3
      },
      "file_extension": ".py",
      "mimetype": "text/x-python",
      "name": "python",
      "nbconvert_exporter": "python",
      "pygments_lexer": "ipython3",
      "version": "3.8"
    }
  },
  "nbformat_minor": 5,
  "nbformat": 4,
  "cells": [
    {
      "cell_type": "markdown",
      "source": "# First Python Notebook: Stanford Fall 2022 edition\n\nAn guide to analyzing money in politics with the [Python](https://www.python.org/) programming language and a [Jupyter](https://jupyter.org/) notebook\n   \nBy [Ben Welsh](https://palewi.re/who-is-ben-welsh/)",
      "metadata": {},
      "id": "37529264-50ff-4bf6-ba7f-0b67d1cafbf5"
    },
    {
      "cell_type": "markdown",
      "source": "First developed in 2016, [\"First Python Notebook\"](https://palewi.re/docs/first-python-notebook/) is a tutorial that guides students through a data-driven investigation of money in California politics. It is most commonly taught as a six-hour, in-person class. This document is an updated, and abbreviated, spin-off for Stanford students in the fall 2022 semester\n\nYou will learn just enough of the Python computer programming language to work with the [pandas](https://pandas.pydata.org/) library, a popular open-source tool for analyzing data. The course will teach you how to read, filter, join, group, aggregate and rank structured data by developing an investigation of the money raised to campaign for ballot measures in the upcoming November election.\n\nThe class, which we will code together live below, walks through [the standard \"First Python Notebook\" tutorial](https://palewi.re/docs/first-python-notebook/index.htmlhttps://palewi.re/docs/first-python-notebook/index.html), substituting in data files from the current campaign.",
      "metadata": {},
      "id": "2b3934dd-a0b6-4d99-9ad4-4370318e8f69"
    },
    {
      "cell_type": "code",
      "source": "2+2",
      "metadata": {
        "trusted": true
      },
      "execution_count": 1,
      "outputs": [
        {
          "execution_count": 1,
          "output_type": "execute_result",
          "data": {
            "text/plain": "4"
          },
          "metadata": {}
        }
      ],
      "id": "60b6bfcd-9432-4dda-9085-d4d7af3fd199"
    },
    {
      "cell_type": "code",
      "source": "number = 2 + 3 + 3",
      "metadata": {
        "trusted": true
      },
      "execution_count": 2,
      "outputs": [],
      "id": "a9033527-027f-4c6f-b8c7-e713e280d563"
    },
    {
      "cell_type": "code",
      "source": "number",
      "metadata": {
        "trusted": true
      },
      "execution_count": 3,
      "outputs": [
        {
          "execution_count": 3,
          "output_type": "execute_result",
          "data": {
            "text/plain": "8"
          },
          "metadata": {}
        }
      ],
      "id": "ab8d39d2-fc89-45d6-b8db-cfc9e4b6d20b"
    },
    {
      "cell_type": "code",
      "source": "import pandas as pd",
      "metadata": {
        "trusted": true
      },
      "execution_count": 4,
      "outputs": [],
      "id": "556874cc-d878-47eb-bb35-6c8f52fd052e"
    },
    {
      "cell_type": "code",
      "source": "my_list = [1, 3, 5, 7, 9, 3, 3, 3, 62, 2.5]",
      "metadata": {
        "trusted": true
      },
      "execution_count": 5,
      "outputs": [],
      "id": "01d2fe9a-225a-4136-9fd7-205ededebe75"
    },
    {
      "cell_type": "code",
      "source": "my_series = pd.Series(my_list)",
      "metadata": {
        "trusted": true
      },
      "execution_count": 6,
      "outputs": [],
      "id": "4504a01e-fafa-4150-a546-dcef646046b7"
    },
    {
      "cell_type": "code",
      "source": "my_series.sum()",
      "metadata": {
        "trusted": true
      },
      "execution_count": 7,
      "outputs": [
        {
          "execution_count": 7,
          "output_type": "execute_result",
          "data": {
            "text/plain": "98.5"
          },
          "metadata": {}
        }
      ],
      "id": "7efc7f2f-17c9-4212-9fc6-2de6ea36a94f"
    },
    {
      "cell_type": "code",
      "source": "my_series.max()",
      "metadata": {
        "trusted": true
      },
      "execution_count": 8,
      "outputs": [
        {
          "execution_count": 8,
          "output_type": "execute_result",
          "data": {
            "text/plain": "62.0"
          },
          "metadata": {}
        }
      ],
      "id": "e549fa21-da8e-4b0d-ae44-01280392beb1"
    },
    {
      "cell_type": "code",
      "source": "my_series.min()",
      "metadata": {
        "trusted": true
      },
      "execution_count": 9,
      "outputs": [
        {
          "execution_count": 9,
          "output_type": "execute_result",
          "data": {
            "text/plain": "1.0"
          },
          "metadata": {}
        }
      ],
      "id": "7b67a5a7-2183-474a-a4d9-5d732d5d1890"
    },
    {
      "cell_type": "code",
      "source": "my_series.mean()",
      "metadata": {
        "trusted": true
      },
      "execution_count": 10,
      "outputs": [
        {
          "execution_count": 10,
          "output_type": "execute_result",
          "data": {
            "text/plain": "9.85"
          },
          "metadata": {}
        }
      ],
      "id": "716c0d84-c5e7-4ed7-9719-75881f7c749b"
    },
    {
      "cell_type": "code",
      "source": "my_series.median()",
      "metadata": {
        "trusted": true
      },
      "execution_count": 11,
      "outputs": [
        {
          "execution_count": 11,
          "output_type": "execute_result",
          "data": {
            "text/plain": "3.0"
          },
          "metadata": {}
        }
      ],
      "id": "8ea2a6fe-3a30-4bad-b0b6-7310d923acf0"
    },
    {
      "cell_type": "code",
      "source": "my_series.std()",
      "metadata": {
        "trusted": true
      },
      "execution_count": 12,
      "outputs": [
        {
          "execution_count": 12,
          "output_type": "execute_result",
          "data": {
            "text/plain": "18.47528378973138"
          },
          "metadata": {}
        }
      ],
      "id": "182822a5-668c-4cd8-8317-c5dcb6a2f7f1"
    },
    {
      "cell_type": "code",
      "source": "my_series.describe()",
      "metadata": {
        "trusted": true
      },
      "execution_count": 13,
      "outputs": [
        {
          "execution_count": 13,
          "output_type": "execute_result",
          "data": {
            "text/plain": "count    10.000000\nmean      9.850000\nstd      18.475284\nmin       1.000000\n25%       3.000000\n50%       3.000000\n75%       6.500000\nmax      62.000000\ndtype: float64"
          },
          "metadata": {}
        }
      ],
      "id": "ca9574f7-2a0e-4683-a273-71f65af35d0f"
    },
    {
      "cell_type": "code",
      "source": "committee_list = pd.read_csv(\"committees.csv\")",
      "metadata": {
        "trusted": true
      },
      "execution_count": 14,
      "outputs": [],
      "id": "ea9387e6-71f6-4b2b-acf3-98cdc11c1c05"
    },
    {
      "cell_type": "code",
      "source": "committee_list.head() # first five rows",
      "metadata": {
        "trusted": true
      },
      "execution_count": 15,
      "outputs": [
        {
          "execution_count": 15,
          "output_type": "execute_result",
          "data": {
            "text/plain": "   filer_id                                               name  proposition  \\\n0   1451868         WOMEN FOR REPRODUCTIVE FACTS- NO ON PROP 1            1   \n1   1449991           CALIFORNIA TOGETHER, NO ON PROPOSITION 1            1   \n2   1357909  ATKINS BALLOT MEASURE COMMITTEE; YES ON PROPOS...            1   \n3   1452181  PLANNED PARENTHOOD ADVOCACY PROJECT LOS ANGELE...            1   \n4   1425966  NO ON THE GAMBLING POWER GRAB: A COMMITTEE OF ...           26   \n\n  position  \n0   oppose  \n1   oppose  \n2  support  \n3  support  \n4   oppose  ",
            "text/html": "<div>\n<style scoped>\n    .dataframe tbody tr th:only-of-type {\n        vertical-align: middle;\n    }\n\n    .dataframe tbody tr th {\n        vertical-align: top;\n    }\n\n    .dataframe thead th {\n        text-align: right;\n    }\n</style>\n<table border=\"1\" class=\"dataframe\">\n  <thead>\n    <tr style=\"text-align: right;\">\n      <th></th>\n      <th>filer_id</th>\n      <th>name</th>\n      <th>proposition</th>\n      <th>position</th>\n    </tr>\n  </thead>\n  <tbody>\n    <tr>\n      <th>0</th>\n      <td>1451868</td>\n      <td>WOMEN FOR REPRODUCTIVE FACTS- NO ON PROP 1</td>\n      <td>1</td>\n      <td>oppose</td>\n    </tr>\n    <tr>\n      <th>1</th>\n      <td>1449991</td>\n      <td>CALIFORNIA TOGETHER, NO ON PROPOSITION 1</td>\n      <td>1</td>\n      <td>oppose</td>\n    </tr>\n    <tr>\n      <th>2</th>\n      <td>1357909</td>\n      <td>ATKINS BALLOT MEASURE COMMITTEE; YES ON PROPOS...</td>\n      <td>1</td>\n      <td>support</td>\n    </tr>\n    <tr>\n      <th>3</th>\n      <td>1452181</td>\n      <td>PLANNED PARENTHOOD ADVOCACY PROJECT LOS ANGELE...</td>\n      <td>1</td>\n      <td>support</td>\n    </tr>\n    <tr>\n      <th>4</th>\n      <td>1425966</td>\n      <td>NO ON THE GAMBLING POWER GRAB: A COMMITTEE OF ...</td>\n      <td>26</td>\n      <td>oppose</td>\n    </tr>\n  </tbody>\n</table>\n</div>"
          },
          "metadata": {}
        }
      ],
      "id": "90817744-489c-4778-8194-f7a0a84a06ab"
    },
    {
      "cell_type": "code",
      "source": "committee_list.info()",
      "metadata": {
        "trusted": true
      },
      "execution_count": 16,
      "outputs": [
        {
          "name": "stdout",
          "text": "<class 'pandas.core.frame.DataFrame'>\nRangeIndex: 21 entries, 0 to 20\nData columns (total 4 columns):\n #   Column       Non-Null Count  Dtype \n---  ------       --------------  ----- \n 0   filer_id     21 non-null     int64 \n 1   name         21 non-null     object\n 2   proposition  21 non-null     int64 \n 3   position     21 non-null     object\ndtypes: int64(2), object(2)\nmemory usage: 572.0+ bytes\n",
          "output_type": "stream"
        }
      ],
      "id": "721e56b1-f51c-4198-93df-7caafa6a1db7"
    },
    {
      "cell_type": "code",
      "source": "committee_list.position # dataframe to series",
      "metadata": {
        "trusted": true
      },
      "execution_count": 17,
      "outputs": [
        {
          "execution_count": 17,
          "output_type": "execute_result",
          "data": {
            "text/plain": "0      oppose\n1      oppose\n2     support\n3     support\n4      oppose\n5     support\n6      oppose\n7     support\n8      oppose\n9      oppose\n10    support\n11    support\n12    support\n13     oppose\n14     oppose\n15     oppose\n16    support\n17    support\n18    support\n19    support\n20     oppose\nName: position, dtype: object"
          },
          "metadata": {}
        }
      ],
      "id": "74862785-eaca-4e7e-b415-ef5cf759997a"
    },
    {
      "cell_type": "code",
      "source": "committee_list.position.value_counts()",
      "metadata": {
        "trusted": true
      },
      "execution_count": 18,
      "outputs": [
        {
          "execution_count": 18,
          "output_type": "execute_result",
          "data": {
            "text/plain": "support    11\noppose     10\nName: position, dtype: int64"
          },
          "metadata": {}
        }
      ],
      "id": "b92c8fa6-cba8-4e7e-94c7-d922b4176677"
    },
    {
      "cell_type": "code",
      "source": "committee_list.proposition.value_counts()",
      "metadata": {
        "trusted": true
      },
      "execution_count": 19,
      "outputs": [
        {
          "execution_count": 19,
          "output_type": "execute_result",
          "data": {
            "text/plain": "30    5\n1     4\n26    3\n27    3\n29    3\n31    2\n28    1\nName: proposition, dtype: int64"
          },
          "metadata": {}
        }
      ],
      "id": "30cbadef-9c97-446b-9b09-396cbc7ae8c5"
    },
    {
      "cell_type": "code",
      "source": "# committee_list.head(21)\ndisplay(committee_list)",
      "metadata": {
        "trusted": true
      },
      "execution_count": 22,
      "outputs": [
        {
          "output_type": "display_data",
          "data": {
            "text/plain": "    filer_id                                               name  proposition  \\\n0    1451868         WOMEN FOR REPRODUCTIVE FACTS- NO ON PROP 1            1   \n1    1449991           CALIFORNIA TOGETHER, NO ON PROPOSITION 1            1   \n2    1357909  ATKINS BALLOT MEASURE COMMITTEE; YES ON PROPOS...            1   \n3    1452181  PLANNED PARENTHOOD ADVOCACY PROJECT LOS ANGELE...            1   \n4    1425966  NO ON THE GAMBLING POWER GRAB: A COMMITTEE OF ...           26   \n5    1424396  YES ON 26, NO ON 27 - COALITION FOR SAFE, RESP...           26   \n6    1439178  NO ON 26 - TAXPAYERS AGAINST SPECIAL INTEREST ...           26   \n7    1440682  YES ON 27 - CALIFORNIANS FOR SOLUTIONS TO HOME...           27   \n8    1443032  NO ON 27 - CALIFORNIANS FOR TRIBAL SOVEREIGNTY...           27   \n9    1424396  YES ON 26, NO ON 27 - COALITION FOR SAFE, RESP...           27   \n10   1442974  YES ON 28 - CALIFORNIANS FOR ARTS AND MUSIC IN...           28   \n11   1398274  CALIFORNIANS FOR KIDNEY DIALYSIS PATIENT PROTE...           29   \n12   1373047  SERVICE EMPLOYEES INTERNATIONAL UNION, UNITED ...           29   \n13   1442293  NO ON 29: STOP YET ANOTHER DANGEROUS DIALYSIS ...           29   \n14   1450340                                           NO ON 30           30   \n15   1453920  NO ON 30 - EDUCATORS OPPOSED TO CORPORATE HAND...           30   \n16   1444991  CALIFORNIA ENVIRONMENTAL VOTERS ISSUES COMMITT...           30   \n17   1449331  YES ON 30: WORKING FAMILIES AND ENVIRONMENTAL ...           30   \n18   1443818  YES ON 30: CLEAN AIR CALIFORNIA, A COALITION O...           30   \n19   1436431  YES ON PROPOSITION 31, COMMITTEE TO PROTECT CA...           31   \n20   1431407  NO ON PROP 31 - CALIFORNIANS AGAINST PROHIBITI...           31   \n\n   position  \n0    oppose  \n1    oppose  \n2   support  \n3   support  \n4    oppose  \n5   support  \n6    oppose  \n7   support  \n8    oppose  \n9    oppose  \n10  support  \n11  support  \n12  support  \n13   oppose  \n14   oppose  \n15   oppose  \n16  support  \n17  support  \n18  support  \n19  support  \n20   oppose  ",
            "text/html": "<div>\n<style scoped>\n    .dataframe tbody tr th:only-of-type {\n        vertical-align: middle;\n    }\n\n    .dataframe tbody tr th {\n        vertical-align: top;\n    }\n\n    .dataframe thead th {\n        text-align: right;\n    }\n</style>\n<table border=\"1\" class=\"dataframe\">\n  <thead>\n    <tr style=\"text-align: right;\">\n      <th></th>\n      <th>filer_id</th>\n      <th>name</th>\n      <th>proposition</th>\n      <th>position</th>\n    </tr>\n  </thead>\n  <tbody>\n    <tr>\n      <th>0</th>\n      <td>1451868</td>\n      <td>WOMEN FOR REPRODUCTIVE FACTS- NO ON PROP 1</td>\n      <td>1</td>\n      <td>oppose</td>\n    </tr>\n    <tr>\n      <th>1</th>\n      <td>1449991</td>\n      <td>CALIFORNIA TOGETHER, NO ON PROPOSITION 1</td>\n      <td>1</td>\n      <td>oppose</td>\n    </tr>\n    <tr>\n      <th>2</th>\n      <td>1357909</td>\n      <td>ATKINS BALLOT MEASURE COMMITTEE; YES ON PROPOS...</td>\n      <td>1</td>\n      <td>support</td>\n    </tr>\n    <tr>\n      <th>3</th>\n      <td>1452181</td>\n      <td>PLANNED PARENTHOOD ADVOCACY PROJECT LOS ANGELE...</td>\n      <td>1</td>\n      <td>support</td>\n    </tr>\n    <tr>\n      <th>4</th>\n      <td>1425966</td>\n      <td>NO ON THE GAMBLING POWER GRAB: A COMMITTEE OF ...</td>\n      <td>26</td>\n      <td>oppose</td>\n    </tr>\n    <tr>\n      <th>5</th>\n      <td>1424396</td>\n      <td>YES ON 26, NO ON 27 - COALITION FOR SAFE, RESP...</td>\n      <td>26</td>\n      <td>support</td>\n    </tr>\n    <tr>\n      <th>6</th>\n      <td>1439178</td>\n      <td>NO ON 26 - TAXPAYERS AGAINST SPECIAL INTEREST ...</td>\n      <td>26</td>\n      <td>oppose</td>\n    </tr>\n    <tr>\n      <th>7</th>\n      <td>1440682</td>\n      <td>YES ON 27 - CALIFORNIANS FOR SOLUTIONS TO HOME...</td>\n      <td>27</td>\n      <td>support</td>\n    </tr>\n    <tr>\n      <th>8</th>\n      <td>1443032</td>\n      <td>NO ON 27 - CALIFORNIANS FOR TRIBAL SOVEREIGNTY...</td>\n      <td>27</td>\n      <td>oppose</td>\n    </tr>\n    <tr>\n      <th>9</th>\n      <td>1424396</td>\n      <td>YES ON 26, NO ON 27 - COALITION FOR SAFE, RESP...</td>\n      <td>27</td>\n      <td>oppose</td>\n    </tr>\n    <tr>\n      <th>10</th>\n      <td>1442974</td>\n      <td>YES ON 28 - CALIFORNIANS FOR ARTS AND MUSIC IN...</td>\n      <td>28</td>\n      <td>support</td>\n    </tr>\n    <tr>\n      <th>11</th>\n      <td>1398274</td>\n      <td>CALIFORNIANS FOR KIDNEY DIALYSIS PATIENT PROTE...</td>\n      <td>29</td>\n      <td>support</td>\n    </tr>\n    <tr>\n      <th>12</th>\n      <td>1373047</td>\n      <td>SERVICE EMPLOYEES INTERNATIONAL UNION, UNITED ...</td>\n      <td>29</td>\n      <td>support</td>\n    </tr>\n    <tr>\n      <th>13</th>\n      <td>1442293</td>\n      <td>NO ON 29: STOP YET ANOTHER DANGEROUS DIALYSIS ...</td>\n      <td>29</td>\n      <td>oppose</td>\n    </tr>\n    <tr>\n      <th>14</th>\n      <td>1450340</td>\n      <td>NO ON 30</td>\n      <td>30</td>\n      <td>oppose</td>\n    </tr>\n    <tr>\n      <th>15</th>\n      <td>1453920</td>\n      <td>NO ON 30 - EDUCATORS OPPOSED TO CORPORATE HAND...</td>\n      <td>30</td>\n      <td>oppose</td>\n    </tr>\n    <tr>\n      <th>16</th>\n      <td>1444991</td>\n      <td>CALIFORNIA ENVIRONMENTAL VOTERS ISSUES COMMITT...</td>\n      <td>30</td>\n      <td>support</td>\n    </tr>\n    <tr>\n      <th>17</th>\n      <td>1449331</td>\n      <td>YES ON 30: WORKING FAMILIES AND ENVIRONMENTAL ...</td>\n      <td>30</td>\n      <td>support</td>\n    </tr>\n    <tr>\n      <th>18</th>\n      <td>1443818</td>\n      <td>YES ON 30: CLEAN AIR CALIFORNIA, A COALITION O...</td>\n      <td>30</td>\n      <td>support</td>\n    </tr>\n    <tr>\n      <th>19</th>\n      <td>1436431</td>\n      <td>YES ON PROPOSITION 31, COMMITTEE TO PROTECT CA...</td>\n      <td>31</td>\n      <td>support</td>\n    </tr>\n    <tr>\n      <th>20</th>\n      <td>1431407</td>\n      <td>NO ON PROP 31 - CALIFORNIANS AGAINST PROHIBITI...</td>\n      <td>31</td>\n      <td>oppose</td>\n    </tr>\n  </tbody>\n</table>\n</div>"
          },
          "metadata": {}
        }
      ],
      "id": "26126f5d-74db-4dda-9e2d-a98a1ca472c3"
    },
    {
      "cell_type": "code",
      "source": "# only committees active on measure 30\n\n# committee_list.proposition == 30 # column proposition, prints true or false for each = 30\nmy_committees = committee_list[committee_list.proposition == 26] # chooses which to discard based on truth or false\nmy_committees = committee_list[committee_list.proposition.isin([26, 27])] # chooses which to discard based on truth or false\n# committee_list[committee_list.proposition == 30].position.value_counts()",
      "metadata": {
        "trusted": true
      },
      "execution_count": 38,
      "outputs": [],
      "id": "db4b1520-36bf-4f97-998e-11d43b8afd28"
    },
    {
      "cell_type": "code",
      "source": "gaming_tribes = [1424396]\nantigambling = []\nonline_gambling_companies = [1440682]",
      "metadata": {
        "trusted": true
      },
      "execution_count": 45,
      "outputs": [],
      "id": "2fc6b0d0-8a5e-40bd-ab86-3bb4e7d326fc"
    },
    {
      "cell_type": "code",
      "source": "display(my_committees)",
      "metadata": {
        "trusted": true
      },
      "execution_count": 46,
      "outputs": [
        {
          "output_type": "display_data",
          "data": {
            "text/plain": "   filer_id                                               name  proposition  \\\n4   1425966  NO ON THE GAMBLING POWER GRAB: A COMMITTEE OF ...           26   \n5   1424396  YES ON 26, NO ON 27 - COALITION FOR SAFE, RESP...           26   \n6   1439178  NO ON 26 - TAXPAYERS AGAINST SPECIAL INTEREST ...           26   \n7   1440682  YES ON 27 - CALIFORNIANS FOR SOLUTIONS TO HOME...           27   \n8   1443032  NO ON 27 - CALIFORNIANS FOR TRIBAL SOVEREIGNTY...           27   \n9   1424396  YES ON 26, NO ON 27 - COALITION FOR SAFE, RESP...           27   \n\n  position  \n4   oppose  \n5  support  \n6   oppose  \n7  support  \n8   oppose  \n9   oppose  ",
            "text/html": "<div>\n<style scoped>\n    .dataframe tbody tr th:only-of-type {\n        vertical-align: middle;\n    }\n\n    .dataframe tbody tr th {\n        vertical-align: top;\n    }\n\n    .dataframe thead th {\n        text-align: right;\n    }\n</style>\n<table border=\"1\" class=\"dataframe\">\n  <thead>\n    <tr style=\"text-align: right;\">\n      <th></th>\n      <th>filer_id</th>\n      <th>name</th>\n      <th>proposition</th>\n      <th>position</th>\n    </tr>\n  </thead>\n  <tbody>\n    <tr>\n      <th>4</th>\n      <td>1425966</td>\n      <td>NO ON THE GAMBLING POWER GRAB: A COMMITTEE OF ...</td>\n      <td>26</td>\n      <td>oppose</td>\n    </tr>\n    <tr>\n      <th>5</th>\n      <td>1424396</td>\n      <td>YES ON 26, NO ON 27 - COALITION FOR SAFE, RESP...</td>\n      <td>26</td>\n      <td>support</td>\n    </tr>\n    <tr>\n      <th>6</th>\n      <td>1439178</td>\n      <td>NO ON 26 - TAXPAYERS AGAINST SPECIAL INTEREST ...</td>\n      <td>26</td>\n      <td>oppose</td>\n    </tr>\n    <tr>\n      <th>7</th>\n      <td>1440682</td>\n      <td>YES ON 27 - CALIFORNIANS FOR SOLUTIONS TO HOME...</td>\n      <td>27</td>\n      <td>support</td>\n    </tr>\n    <tr>\n      <th>8</th>\n      <td>1443032</td>\n      <td>NO ON 27 - CALIFORNIANS FOR TRIBAL SOVEREIGNTY...</td>\n      <td>27</td>\n      <td>oppose</td>\n    </tr>\n    <tr>\n      <th>9</th>\n      <td>1424396</td>\n      <td>YES ON 26, NO ON 27 - COALITION FOR SAFE, RESP...</td>\n      <td>27</td>\n      <td>oppose</td>\n    </tr>\n  </tbody>\n</table>\n</div>"
          },
          "metadata": {}
        }
      ],
      "id": "f916c25a-e032-456e-a305-9f0ac1a8e65a"
    },
    {
      "cell_type": "code",
      "source": "unique_committees = committee_list[\n    ~(\n        (committee_list.filer_id == 1424396) &\n        (committee_list.proposition == 26)\n    )\n]",
      "metadata": {
        "trusted": true
      },
      "execution_count": 84,
      "outputs": [],
      "id": "0f154260-bdef-4590-bedc-39139e9c35cc"
    },
    {
      "cell_type": "code",
      "source": "my_committees.position.value_counts()",
      "metadata": {
        "trusted": true
      },
      "execution_count": 47,
      "outputs": [
        {
          "execution_count": 47,
          "output_type": "execute_result",
          "data": {
            "text/plain": "oppose     4\nsupport    2\nName: position, dtype: int64"
          },
          "metadata": {}
        }
      ],
      "id": "6a200de9-44ae-4d17-9543-1c3ade950b1d"
    },
    {
      "cell_type": "code",
      "source": "contribs_list = pd.read_csv(\"contributions.csv\")",
      "metadata": {
        "trusted": true
      },
      "execution_count": 52,
      "outputs": [],
      "id": "68b795c6-e16e-463a-ba48-b7e0b57232ec"
    },
    {
      "cell_type": "code",
      "source": "contribs_list.info()",
      "metadata": {
        "trusted": true
      },
      "execution_count": 54,
      "outputs": [
        {
          "name": "stdout",
          "text": "<class 'pandas.core.frame.DataFrame'>\nRangeIndex: 1498 entries, 0 to 1497\nData columns (total 16 columns):\n #   Column                    Non-Null Count  Dtype  \n---  ------                    --------------  -----  \n 0   filer_id                  1498 non-null   int64  \n 1   date_filed                1498 non-null   object \n 2   filing_id                 1498 non-null   int64  \n 3   id                        1347 non-null   float64\n 4   date_received             1498 non-null   object \n 5   contributor_committee_id  204 non-null    object \n 6   contributor_firstname     410 non-null    object \n 7   contributor_lastname      1498 non-null   object \n 8   contributor_employer      386 non-null    object \n 9   contributor_occupation    405 non-null    object \n 10  contributor_city          1347 non-null   object \n 11  contributor_state         1347 non-null   object \n 12  contributor_zip           1347 non-null   object \n 13  amount                    1498 non-null   float64\n 14  is_loan                   1498 non-null   bool   \n 15  source                    1498 non-null   object \ndtypes: bool(1), float64(2), int64(2), object(11)\nmemory usage: 112.7+ KB\n",
          "output_type": "stream"
        }
      ],
      "id": "ea6fc726-39a2-499b-9823-3d702d32d619"
    },
    {
      "cell_type": "code",
      "source": "merged_list = pd.merge(unique_committees, contribs_list, on=\"filer_id\")",
      "metadata": {
        "trusted": true
      },
      "execution_count": 85,
      "outputs": [],
      "id": "93c6c2a1-471a-430d-b6fa-3103d2c50143"
    },
    {
      "cell_type": "code",
      "source": "display(merged_list)",
      "metadata": {
        "trusted": true
      },
      "execution_count": 86,
      "outputs": [
        {
          "output_type": "display_data",
          "data": {
            "text/plain": "      filer_id                                               name  \\\n0      1449991           CALIFORNIA TOGETHER, NO ON PROPOSITION 1   \n1      1449991           CALIFORNIA TOGETHER, NO ON PROPOSITION 1   \n2      1449991           CALIFORNIA TOGETHER, NO ON PROPOSITION 1   \n3      1449991           CALIFORNIA TOGETHER, NO ON PROPOSITION 1   \n4      1449991           CALIFORNIA TOGETHER, NO ON PROPOSITION 1   \n...        ...                                                ...   \n1493   1431407  NO ON PROP 31 - CALIFORNIANS AGAINST PROHIBITI...   \n1494   1431407  NO ON PROP 31 - CALIFORNIANS AGAINST PROHIBITI...   \n1495   1431407  NO ON PROP 31 - CALIFORNIANS AGAINST PROHIBITI...   \n1496   1431407  NO ON PROP 31 - CALIFORNIANS AGAINST PROHIBITI...   \n1497   1431407  NO ON PROP 31 - CALIFORNIANS AGAINST PROHIBITI...   \n\n      proposition position  date_filed  filing_id          id date_received  \\\n0               1   oppose  2022-09-29    2726505  10157845.0    2022-09-24   \n1               1   oppose  2022-09-29    2726505  10157846.0    2022-09-24   \n2               1   oppose  2022-09-29    2726505  10157997.0    2022-09-22   \n3               1   oppose  2022-09-29    2726505  10157998.0    2022-09-22   \n4               1   oppose  2022-09-29    2726505  10157999.0    2022-09-22   \n...           ...      ...         ...        ...         ...           ...   \n1493           31   oppose  2022-10-03    2727685         NaN    2022-10-01   \n1494           31   oppose  2022-10-03    2727685         NaN    2022-09-29   \n1495           31   oppose  2022-10-03    2727685         NaN    2022-09-30   \n1496           31   oppose  2022-10-03    2727685         NaN    2022-10-01   \n1497           31   oppose  2022-09-29    2726470         NaN    2022-09-27   \n\n     contributor_committee_id contributor_firstname  \\\n0                         NaN                 DAVID   \n1                         NaN                HELENE   \n2                         NaN            JACQUELINE   \n3                         NaN                   NaN   \n4                         NaN                  LIEN   \n...                       ...                   ...   \n1493                      NaN                   NaN   \n1494                      NaN                   NaN   \n1495                      NaN                   NaN   \n1496                      NaN                   NaN   \n1497                      NaN                   NaN   \n\n                                  contributor_lastname  \\\n0                                            CALAVITTA   \n1                                             ROWLETTE   \n2                                            BRICHETTO   \n3                  KNIGHTS OF COLUMBUS SUPREME COUNCIL   \n4                                                 PHAM   \n...                                                ...   \n1493  R.J. REYNOLDS TOBACCO COMPANY AND ITS AFFILIATES   \n1494  R.J. REYNOLDS TOBACCO COMPANY AND ITS AFFILIATES   \n1495  R.J. REYNOLDS TOBACCO COMPANY AND ITS AFFILIATES   \n1496  R.J. REYNOLDS TOBACCO COMPANY AND ITS AFFILIATES   \n1497  R.J. REYNOLDS TOBACCO COMPANY AND ITS AFFILIATES   \n\n                      contributor_employer contributor_occupation  \\\n0                                LIFE TEEN              MARKETING   \n1                                  RETIRED                RETIRED   \n2     SELF EMPLOYED - JACQUELINE BRICHETTO                 FARMER   \n3                                      NaN                    NaN   \n4                                      NaN  INFORMATION REQUESTED   \n...                                    ...                    ...   \n1493                                   NaN                    NaN   \n1494                                   NaN                    NaN   \n1495                                   NaN                    NaN   \n1496                                   NaN                    NaN   \n1497                                   NaN                    NaN   \n\n            contributor_city contributor_state contributor_zip     amount  \\\n0     RANCHO SANTA MARGARITA                CA           92688     100.00   \n1           HUNTINGTON BEACH                CA           92649     500.00   \n2                    OAKDALE                CA           95361     100.00   \n3                  NEW HAVEN                CT           06510  500000.00   \n4                   EL MONTE                CA           91732     100.00   \n...                      ...               ...             ...        ...   \n1493                     NaN               NaN             NaN   25000.00   \n1494                     NaN               NaN             NaN   18290.68   \n1495                     NaN               NaN             NaN     735.00   \n1496                     NaN               NaN             NaN    3490.86   \n1497                     NaN               NaN             NaN   49956.01   \n\n      is_loan   source  \n0       False  form460  \n1       False  form460  \n2       False  form460  \n3       False  form460  \n4       False  form460  \n...       ...      ...  \n1493    False  form497  \n1494    False  form497  \n1495    False  form497  \n1496    False  form497  \n1497    False  form497  \n\n[1498 rows x 19 columns]",
            "text/html": "<div>\n<style scoped>\n    .dataframe tbody tr th:only-of-type {\n        vertical-align: middle;\n    }\n\n    .dataframe tbody tr th {\n        vertical-align: top;\n    }\n\n    .dataframe thead th {\n        text-align: right;\n    }\n</style>\n<table border=\"1\" class=\"dataframe\">\n  <thead>\n    <tr style=\"text-align: right;\">\n      <th></th>\n      <th>filer_id</th>\n      <th>name</th>\n      <th>proposition</th>\n      <th>position</th>\n      <th>date_filed</th>\n      <th>filing_id</th>\n      <th>id</th>\n      <th>date_received</th>\n      <th>contributor_committee_id</th>\n      <th>contributor_firstname</th>\n      <th>contributor_lastname</th>\n      <th>contributor_employer</th>\n      <th>contributor_occupation</th>\n      <th>contributor_city</th>\n      <th>contributor_state</th>\n      <th>contributor_zip</th>\n      <th>amount</th>\n      <th>is_loan</th>\n      <th>source</th>\n    </tr>\n  </thead>\n  <tbody>\n    <tr>\n      <th>0</th>\n      <td>1449991</td>\n      <td>CALIFORNIA TOGETHER, NO ON PROPOSITION 1</td>\n      <td>1</td>\n      <td>oppose</td>\n      <td>2022-09-29</td>\n      <td>2726505</td>\n      <td>10157845.0</td>\n      <td>2022-09-24</td>\n      <td>NaN</td>\n      <td>DAVID</td>\n      <td>CALAVITTA</td>\n      <td>LIFE TEEN</td>\n      <td>MARKETING</td>\n      <td>RANCHO SANTA MARGARITA</td>\n      <td>CA</td>\n      <td>92688</td>\n      <td>100.00</td>\n      <td>False</td>\n      <td>form460</td>\n    </tr>\n    <tr>\n      <th>1</th>\n      <td>1449991</td>\n      <td>CALIFORNIA TOGETHER, NO ON PROPOSITION 1</td>\n      <td>1</td>\n      <td>oppose</td>\n      <td>2022-09-29</td>\n      <td>2726505</td>\n      <td>10157846.0</td>\n      <td>2022-09-24</td>\n      <td>NaN</td>\n      <td>HELENE</td>\n      <td>ROWLETTE</td>\n      <td>RETIRED</td>\n      <td>RETIRED</td>\n      <td>HUNTINGTON BEACH</td>\n      <td>CA</td>\n      <td>92649</td>\n      <td>500.00</td>\n      <td>False</td>\n      <td>form460</td>\n    </tr>\n    <tr>\n      <th>2</th>\n      <td>1449991</td>\n      <td>CALIFORNIA TOGETHER, NO ON PROPOSITION 1</td>\n      <td>1</td>\n      <td>oppose</td>\n      <td>2022-09-29</td>\n      <td>2726505</td>\n      <td>10157997.0</td>\n      <td>2022-09-22</td>\n      <td>NaN</td>\n      <td>JACQUELINE</td>\n      <td>BRICHETTO</td>\n      <td>SELF EMPLOYED - JACQUELINE BRICHETTO</td>\n      <td>FARMER</td>\n      <td>OAKDALE</td>\n      <td>CA</td>\n      <td>95361</td>\n      <td>100.00</td>\n      <td>False</td>\n      <td>form460</td>\n    </tr>\n    <tr>\n      <th>3</th>\n      <td>1449991</td>\n      <td>CALIFORNIA TOGETHER, NO ON PROPOSITION 1</td>\n      <td>1</td>\n      <td>oppose</td>\n      <td>2022-09-29</td>\n      <td>2726505</td>\n      <td>10157998.0</td>\n      <td>2022-09-22</td>\n      <td>NaN</td>\n      <td>NaN</td>\n      <td>KNIGHTS OF COLUMBUS SUPREME COUNCIL</td>\n      <td>NaN</td>\n      <td>NaN</td>\n      <td>NEW HAVEN</td>\n      <td>CT</td>\n      <td>06510</td>\n      <td>500000.00</td>\n      <td>False</td>\n      <td>form460</td>\n    </tr>\n    <tr>\n      <th>4</th>\n      <td>1449991</td>\n      <td>CALIFORNIA TOGETHER, NO ON PROPOSITION 1</td>\n      <td>1</td>\n      <td>oppose</td>\n      <td>2022-09-29</td>\n      <td>2726505</td>\n      <td>10157999.0</td>\n      <td>2022-09-22</td>\n      <td>NaN</td>\n      <td>LIEN</td>\n      <td>PHAM</td>\n      <td>NaN</td>\n      <td>INFORMATION REQUESTED</td>\n      <td>EL MONTE</td>\n      <td>CA</td>\n      <td>91732</td>\n      <td>100.00</td>\n      <td>False</td>\n      <td>form460</td>\n    </tr>\n    <tr>\n      <th>...</th>\n      <td>...</td>\n      <td>...</td>\n      <td>...</td>\n      <td>...</td>\n      <td>...</td>\n      <td>...</td>\n      <td>...</td>\n      <td>...</td>\n      <td>...</td>\n      <td>...</td>\n      <td>...</td>\n      <td>...</td>\n      <td>...</td>\n      <td>...</td>\n      <td>...</td>\n      <td>...</td>\n      <td>...</td>\n      <td>...</td>\n      <td>...</td>\n    </tr>\n    <tr>\n      <th>1493</th>\n      <td>1431407</td>\n      <td>NO ON PROP 31 - CALIFORNIANS AGAINST PROHIBITI...</td>\n      <td>31</td>\n      <td>oppose</td>\n      <td>2022-10-03</td>\n      <td>2727685</td>\n      <td>NaN</td>\n      <td>2022-10-01</td>\n      <td>NaN</td>\n      <td>NaN</td>\n      <td>R.J. REYNOLDS TOBACCO COMPANY AND ITS AFFILIATES</td>\n      <td>NaN</td>\n      <td>NaN</td>\n      <td>NaN</td>\n      <td>NaN</td>\n      <td>NaN</td>\n      <td>25000.00</td>\n      <td>False</td>\n      <td>form497</td>\n    </tr>\n    <tr>\n      <th>1494</th>\n      <td>1431407</td>\n      <td>NO ON PROP 31 - CALIFORNIANS AGAINST PROHIBITI...</td>\n      <td>31</td>\n      <td>oppose</td>\n      <td>2022-10-03</td>\n      <td>2727685</td>\n      <td>NaN</td>\n      <td>2022-09-29</td>\n      <td>NaN</td>\n      <td>NaN</td>\n      <td>R.J. REYNOLDS TOBACCO COMPANY AND ITS AFFILIATES</td>\n      <td>NaN</td>\n      <td>NaN</td>\n      <td>NaN</td>\n      <td>NaN</td>\n      <td>NaN</td>\n      <td>18290.68</td>\n      <td>False</td>\n      <td>form497</td>\n    </tr>\n    <tr>\n      <th>1495</th>\n      <td>1431407</td>\n      <td>NO ON PROP 31 - CALIFORNIANS AGAINST PROHIBITI...</td>\n      <td>31</td>\n      <td>oppose</td>\n      <td>2022-10-03</td>\n      <td>2727685</td>\n      <td>NaN</td>\n      <td>2022-09-30</td>\n      <td>NaN</td>\n      <td>NaN</td>\n      <td>R.J. REYNOLDS TOBACCO COMPANY AND ITS AFFILIATES</td>\n      <td>NaN</td>\n      <td>NaN</td>\n      <td>NaN</td>\n      <td>NaN</td>\n      <td>NaN</td>\n      <td>735.00</td>\n      <td>False</td>\n      <td>form497</td>\n    </tr>\n    <tr>\n      <th>1496</th>\n      <td>1431407</td>\n      <td>NO ON PROP 31 - CALIFORNIANS AGAINST PROHIBITI...</td>\n      <td>31</td>\n      <td>oppose</td>\n      <td>2022-10-03</td>\n      <td>2727685</td>\n      <td>NaN</td>\n      <td>2022-10-01</td>\n      <td>NaN</td>\n      <td>NaN</td>\n      <td>R.J. REYNOLDS TOBACCO COMPANY AND ITS AFFILIATES</td>\n      <td>NaN</td>\n      <td>NaN</td>\n      <td>NaN</td>\n      <td>NaN</td>\n      <td>NaN</td>\n      <td>3490.86</td>\n      <td>False</td>\n      <td>form497</td>\n    </tr>\n    <tr>\n      <th>1497</th>\n      <td>1431407</td>\n      <td>NO ON PROP 31 - CALIFORNIANS AGAINST PROHIBITI...</td>\n      <td>31</td>\n      <td>oppose</td>\n      <td>2022-09-29</td>\n      <td>2726470</td>\n      <td>NaN</td>\n      <td>2022-09-27</td>\n      <td>NaN</td>\n      <td>NaN</td>\n      <td>R.J. REYNOLDS TOBACCO COMPANY AND ITS AFFILIATES</td>\n      <td>NaN</td>\n      <td>NaN</td>\n      <td>NaN</td>\n      <td>NaN</td>\n      <td>NaN</td>\n      <td>49956.01</td>\n      <td>False</td>\n      <td>form497</td>\n    </tr>\n  </tbody>\n</table>\n<p>1498 rows × 19 columns</p>\n</div>"
          },
          "metadata": {}
        }
      ],
      "id": "6cc217a1-0e49-412f-8934-494beb8e79bd"
    },
    {
      "cell_type": "code",
      "source": "len(contribs_list)",
      "metadata": {
        "trusted": true
      },
      "execution_count": 68,
      "outputs": [
        {
          "execution_count": 68,
          "output_type": "execute_result",
          "data": {
            "text/plain": "1498"
          },
          "metadata": {}
        }
      ],
      "id": "1a09758d-7998-4838-aaa0-2eeaa75aa414"
    },
    {
      "cell_type": "code",
      "source": "merged_list",
      "metadata": {
        "trusted": true
      },
      "execution_count": 87,
      "outputs": [
        {
          "execution_count": 87,
          "output_type": "execute_result",
          "data": {
            "text/plain": "      filer_id                                               name  \\\n0      1449991           CALIFORNIA TOGETHER, NO ON PROPOSITION 1   \n1      1449991           CALIFORNIA TOGETHER, NO ON PROPOSITION 1   \n2      1449991           CALIFORNIA TOGETHER, NO ON PROPOSITION 1   \n3      1449991           CALIFORNIA TOGETHER, NO ON PROPOSITION 1   \n4      1449991           CALIFORNIA TOGETHER, NO ON PROPOSITION 1   \n...        ...                                                ...   \n1493   1431407  NO ON PROP 31 - CALIFORNIANS AGAINST PROHIBITI...   \n1494   1431407  NO ON PROP 31 - CALIFORNIANS AGAINST PROHIBITI...   \n1495   1431407  NO ON PROP 31 - CALIFORNIANS AGAINST PROHIBITI...   \n1496   1431407  NO ON PROP 31 - CALIFORNIANS AGAINST PROHIBITI...   \n1497   1431407  NO ON PROP 31 - CALIFORNIANS AGAINST PROHIBITI...   \n\n      proposition position  date_filed  filing_id          id date_received  \\\n0               1   oppose  2022-09-29    2726505  10157845.0    2022-09-24   \n1               1   oppose  2022-09-29    2726505  10157846.0    2022-09-24   \n2               1   oppose  2022-09-29    2726505  10157997.0    2022-09-22   \n3               1   oppose  2022-09-29    2726505  10157998.0    2022-09-22   \n4               1   oppose  2022-09-29    2726505  10157999.0    2022-09-22   \n...           ...      ...         ...        ...         ...           ...   \n1493           31   oppose  2022-10-03    2727685         NaN    2022-10-01   \n1494           31   oppose  2022-10-03    2727685         NaN    2022-09-29   \n1495           31   oppose  2022-10-03    2727685         NaN    2022-09-30   \n1496           31   oppose  2022-10-03    2727685         NaN    2022-10-01   \n1497           31   oppose  2022-09-29    2726470         NaN    2022-09-27   \n\n     contributor_committee_id contributor_firstname  \\\n0                         NaN                 DAVID   \n1                         NaN                HELENE   \n2                         NaN            JACQUELINE   \n3                         NaN                   NaN   \n4                         NaN                  LIEN   \n...                       ...                   ...   \n1493                      NaN                   NaN   \n1494                      NaN                   NaN   \n1495                      NaN                   NaN   \n1496                      NaN                   NaN   \n1497                      NaN                   NaN   \n\n                                  contributor_lastname  \\\n0                                            CALAVITTA   \n1                                             ROWLETTE   \n2                                            BRICHETTO   \n3                  KNIGHTS OF COLUMBUS SUPREME COUNCIL   \n4                                                 PHAM   \n...                                                ...   \n1493  R.J. REYNOLDS TOBACCO COMPANY AND ITS AFFILIATES   \n1494  R.J. REYNOLDS TOBACCO COMPANY AND ITS AFFILIATES   \n1495  R.J. REYNOLDS TOBACCO COMPANY AND ITS AFFILIATES   \n1496  R.J. REYNOLDS TOBACCO COMPANY AND ITS AFFILIATES   \n1497  R.J. REYNOLDS TOBACCO COMPANY AND ITS AFFILIATES   \n\n                      contributor_employer contributor_occupation  \\\n0                                LIFE TEEN              MARKETING   \n1                                  RETIRED                RETIRED   \n2     SELF EMPLOYED - JACQUELINE BRICHETTO                 FARMER   \n3                                      NaN                    NaN   \n4                                      NaN  INFORMATION REQUESTED   \n...                                    ...                    ...   \n1493                                   NaN                    NaN   \n1494                                   NaN                    NaN   \n1495                                   NaN                    NaN   \n1496                                   NaN                    NaN   \n1497                                   NaN                    NaN   \n\n            contributor_city contributor_state contributor_zip     amount  \\\n0     RANCHO SANTA MARGARITA                CA           92688     100.00   \n1           HUNTINGTON BEACH                CA           92649     500.00   \n2                    OAKDALE                CA           95361     100.00   \n3                  NEW HAVEN                CT           06510  500000.00   \n4                   EL MONTE                CA           91732     100.00   \n...                      ...               ...             ...        ...   \n1493                     NaN               NaN             NaN   25000.00   \n1494                     NaN               NaN             NaN   18290.68   \n1495                     NaN               NaN             NaN     735.00   \n1496                     NaN               NaN             NaN    3490.86   \n1497                     NaN               NaN             NaN   49956.01   \n\n      is_loan   source  \n0       False  form460  \n1       False  form460  \n2       False  form460  \n3       False  form460  \n4       False  form460  \n...       ...      ...  \n1493    False  form497  \n1494    False  form497  \n1495    False  form497  \n1496    False  form497  \n1497    False  form497  \n\n[1498 rows x 19 columns]",
            "text/html": "<div>\n<style scoped>\n    .dataframe tbody tr th:only-of-type {\n        vertical-align: middle;\n    }\n\n    .dataframe tbody tr th {\n        vertical-align: top;\n    }\n\n    .dataframe thead th {\n        text-align: right;\n    }\n</style>\n<table border=\"1\" class=\"dataframe\">\n  <thead>\n    <tr style=\"text-align: right;\">\n      <th></th>\n      <th>filer_id</th>\n      <th>name</th>\n      <th>proposition</th>\n      <th>position</th>\n      <th>date_filed</th>\n      <th>filing_id</th>\n      <th>id</th>\n      <th>date_received</th>\n      <th>contributor_committee_id</th>\n      <th>contributor_firstname</th>\n      <th>contributor_lastname</th>\n      <th>contributor_employer</th>\n      <th>contributor_occupation</th>\n      <th>contributor_city</th>\n      <th>contributor_state</th>\n      <th>contributor_zip</th>\n      <th>amount</th>\n      <th>is_loan</th>\n      <th>source</th>\n    </tr>\n  </thead>\n  <tbody>\n    <tr>\n      <th>0</th>\n      <td>1449991</td>\n      <td>CALIFORNIA TOGETHER, NO ON PROPOSITION 1</td>\n      <td>1</td>\n      <td>oppose</td>\n      <td>2022-09-29</td>\n      <td>2726505</td>\n      <td>10157845.0</td>\n      <td>2022-09-24</td>\n      <td>NaN</td>\n      <td>DAVID</td>\n      <td>CALAVITTA</td>\n      <td>LIFE TEEN</td>\n      <td>MARKETING</td>\n      <td>RANCHO SANTA MARGARITA</td>\n      <td>CA</td>\n      <td>92688</td>\n      <td>100.00</td>\n      <td>False</td>\n      <td>form460</td>\n    </tr>\n    <tr>\n      <th>1</th>\n      <td>1449991</td>\n      <td>CALIFORNIA TOGETHER, NO ON PROPOSITION 1</td>\n      <td>1</td>\n      <td>oppose</td>\n      <td>2022-09-29</td>\n      <td>2726505</td>\n      <td>10157846.0</td>\n      <td>2022-09-24</td>\n      <td>NaN</td>\n      <td>HELENE</td>\n      <td>ROWLETTE</td>\n      <td>RETIRED</td>\n      <td>RETIRED</td>\n      <td>HUNTINGTON BEACH</td>\n      <td>CA</td>\n      <td>92649</td>\n      <td>500.00</td>\n      <td>False</td>\n      <td>form460</td>\n    </tr>\n    <tr>\n      <th>2</th>\n      <td>1449991</td>\n      <td>CALIFORNIA TOGETHER, NO ON PROPOSITION 1</td>\n      <td>1</td>\n      <td>oppose</td>\n      <td>2022-09-29</td>\n      <td>2726505</td>\n      <td>10157997.0</td>\n      <td>2022-09-22</td>\n      <td>NaN</td>\n      <td>JACQUELINE</td>\n      <td>BRICHETTO</td>\n      <td>SELF EMPLOYED - JACQUELINE BRICHETTO</td>\n      <td>FARMER</td>\n      <td>OAKDALE</td>\n      <td>CA</td>\n      <td>95361</td>\n      <td>100.00</td>\n      <td>False</td>\n      <td>form460</td>\n    </tr>\n    <tr>\n      <th>3</th>\n      <td>1449991</td>\n      <td>CALIFORNIA TOGETHER, NO ON PROPOSITION 1</td>\n      <td>1</td>\n      <td>oppose</td>\n      <td>2022-09-29</td>\n      <td>2726505</td>\n      <td>10157998.0</td>\n      <td>2022-09-22</td>\n      <td>NaN</td>\n      <td>NaN</td>\n      <td>KNIGHTS OF COLUMBUS SUPREME COUNCIL</td>\n      <td>NaN</td>\n      <td>NaN</td>\n      <td>NEW HAVEN</td>\n      <td>CT</td>\n      <td>06510</td>\n      <td>500000.00</td>\n      <td>False</td>\n      <td>form460</td>\n    </tr>\n    <tr>\n      <th>4</th>\n      <td>1449991</td>\n      <td>CALIFORNIA TOGETHER, NO ON PROPOSITION 1</td>\n      <td>1</td>\n      <td>oppose</td>\n      <td>2022-09-29</td>\n      <td>2726505</td>\n      <td>10157999.0</td>\n      <td>2022-09-22</td>\n      <td>NaN</td>\n      <td>LIEN</td>\n      <td>PHAM</td>\n      <td>NaN</td>\n      <td>INFORMATION REQUESTED</td>\n      <td>EL MONTE</td>\n      <td>CA</td>\n      <td>91732</td>\n      <td>100.00</td>\n      <td>False</td>\n      <td>form460</td>\n    </tr>\n    <tr>\n      <th>...</th>\n      <td>...</td>\n      <td>...</td>\n      <td>...</td>\n      <td>...</td>\n      <td>...</td>\n      <td>...</td>\n      <td>...</td>\n      <td>...</td>\n      <td>...</td>\n      <td>...</td>\n      <td>...</td>\n      <td>...</td>\n      <td>...</td>\n      <td>...</td>\n      <td>...</td>\n      <td>...</td>\n      <td>...</td>\n      <td>...</td>\n      <td>...</td>\n    </tr>\n    <tr>\n      <th>1493</th>\n      <td>1431407</td>\n      <td>NO ON PROP 31 - CALIFORNIANS AGAINST PROHIBITI...</td>\n      <td>31</td>\n      <td>oppose</td>\n      <td>2022-10-03</td>\n      <td>2727685</td>\n      <td>NaN</td>\n      <td>2022-10-01</td>\n      <td>NaN</td>\n      <td>NaN</td>\n      <td>R.J. REYNOLDS TOBACCO COMPANY AND ITS AFFILIATES</td>\n      <td>NaN</td>\n      <td>NaN</td>\n      <td>NaN</td>\n      <td>NaN</td>\n      <td>NaN</td>\n      <td>25000.00</td>\n      <td>False</td>\n      <td>form497</td>\n    </tr>\n    <tr>\n      <th>1494</th>\n      <td>1431407</td>\n      <td>NO ON PROP 31 - CALIFORNIANS AGAINST PROHIBITI...</td>\n      <td>31</td>\n      <td>oppose</td>\n      <td>2022-10-03</td>\n      <td>2727685</td>\n      <td>NaN</td>\n      <td>2022-09-29</td>\n      <td>NaN</td>\n      <td>NaN</td>\n      <td>R.J. REYNOLDS TOBACCO COMPANY AND ITS AFFILIATES</td>\n      <td>NaN</td>\n      <td>NaN</td>\n      <td>NaN</td>\n      <td>NaN</td>\n      <td>NaN</td>\n      <td>18290.68</td>\n      <td>False</td>\n      <td>form497</td>\n    </tr>\n    <tr>\n      <th>1495</th>\n      <td>1431407</td>\n      <td>NO ON PROP 31 - CALIFORNIANS AGAINST PROHIBITI...</td>\n      <td>31</td>\n      <td>oppose</td>\n      <td>2022-10-03</td>\n      <td>2727685</td>\n      <td>NaN</td>\n      <td>2022-09-30</td>\n      <td>NaN</td>\n      <td>NaN</td>\n      <td>R.J. REYNOLDS TOBACCO COMPANY AND ITS AFFILIATES</td>\n      <td>NaN</td>\n      <td>NaN</td>\n      <td>NaN</td>\n      <td>NaN</td>\n      <td>NaN</td>\n      <td>735.00</td>\n      <td>False</td>\n      <td>form497</td>\n    </tr>\n    <tr>\n      <th>1496</th>\n      <td>1431407</td>\n      <td>NO ON PROP 31 - CALIFORNIANS AGAINST PROHIBITI...</td>\n      <td>31</td>\n      <td>oppose</td>\n      <td>2022-10-03</td>\n      <td>2727685</td>\n      <td>NaN</td>\n      <td>2022-10-01</td>\n      <td>NaN</td>\n      <td>NaN</td>\n      <td>R.J. REYNOLDS TOBACCO COMPANY AND ITS AFFILIATES</td>\n      <td>NaN</td>\n      <td>NaN</td>\n      <td>NaN</td>\n      <td>NaN</td>\n      <td>NaN</td>\n      <td>3490.86</td>\n      <td>False</td>\n      <td>form497</td>\n    </tr>\n    <tr>\n      <th>1497</th>\n      <td>1431407</td>\n      <td>NO ON PROP 31 - CALIFORNIANS AGAINST PROHIBITI...</td>\n      <td>31</td>\n      <td>oppose</td>\n      <td>2022-09-29</td>\n      <td>2726470</td>\n      <td>NaN</td>\n      <td>2022-09-27</td>\n      <td>NaN</td>\n      <td>NaN</td>\n      <td>R.J. REYNOLDS TOBACCO COMPANY AND ITS AFFILIATES</td>\n      <td>NaN</td>\n      <td>NaN</td>\n      <td>NaN</td>\n      <td>NaN</td>\n      <td>NaN</td>\n      <td>49956.01</td>\n      <td>False</td>\n      <td>form497</td>\n    </tr>\n  </tbody>\n</table>\n<p>1498 rows × 19 columns</p>\n</div>"
          },
          "metadata": {}
        }
      ],
      "id": "f1fa0b67-0035-4a04-9525-086e23287aec"
    },
    {
      "cell_type": "code",
      "source": "my_contribs = merged_list[merged_list.proposition == 30]",
      "metadata": {
        "trusted": true
      },
      "execution_count": 89,
      "outputs": [],
      "id": "d2a0037c-16f3-41d1-9914-ce829217bb6e"
    },
    {
      "cell_type": "code",
      "source": "my_contribs.info()\nlen(my_contribs)",
      "metadata": {
        "trusted": true
      },
      "execution_count": 94,
      "outputs": [
        {
          "name": "stdout",
          "text": "<class 'pandas.core.frame.DataFrame'>\nInt64Index: 152 entries, 1088 to 1239\nData columns (total 19 columns):\n #   Column                    Non-Null Count  Dtype  \n---  ------                    --------------  -----  \n 0   filer_id                  152 non-null    int64  \n 1   name                      152 non-null    object \n 2   proposition               152 non-null    int64  \n 3   position                  152 non-null    object \n 4   date_filed                152 non-null    object \n 5   filing_id                 152 non-null    int64  \n 6   id                        120 non-null    float64\n 7   date_received             152 non-null    object \n 8   contributor_committee_id  14 non-null     object \n 9   contributor_firstname     110 non-null    object \n 10  contributor_lastname      152 non-null    object \n 11  contributor_employer      104 non-null    object \n 12  contributor_occupation    110 non-null    object \n 13  contributor_city          120 non-null    object \n 14  contributor_state         120 non-null    object \n 15  contributor_zip           120 non-null    object \n 16  amount                    152 non-null    float64\n 17  is_loan                   152 non-null    bool   \n 18  source                    152 non-null    object \ndtypes: bool(1), float64(2), int64(3), object(13)\nmemory usage: 15.0+ KB\n",
          "output_type": "stream"
        },
        {
          "execution_count": 94,
          "output_type": "execute_result",
          "data": {
            "text/plain": "152"
          },
          "metadata": {}
        }
      ],
      "id": "5864fd60-3d11-4958-bcd2-2559f669f289"
    },
    {
      "cell_type": "code",
      "source": "my_contribs.position.value_counts()",
      "metadata": {
        "trusted": true
      },
      "execution_count": 95,
      "outputs": [
        {
          "execution_count": 95,
          "output_type": "execute_result",
          "data": {
            "text/plain": "oppose     95\nsupport    57\nName: position, dtype: int64"
          },
          "metadata": {}
        }
      ],
      "id": "cf56c906-f469-4553-ae07-6dbffa6cea8a"
    },
    {
      "cell_type": "code",
      "source": "my_contribs.amount.sum()",
      "metadata": {
        "trusted": true
      },
      "execution_count": 96,
      "outputs": [
        {
          "execution_count": 96,
          "output_type": "execute_result",
          "data": {
            "text/plain": "59318464.5"
          },
          "metadata": {}
        }
      ],
      "id": "959c668c-8395-4463-9b26-9b3cf84b886e"
    },
    {
      "cell_type": "code",
      "source": "my_contribs.groupby(\"position\").amount.sum()",
      "metadata": {
        "trusted": true
      },
      "execution_count": 98,
      "outputs": [
        {
          "execution_count": 98,
          "output_type": "execute_result",
          "data": {
            "text/plain": "position\noppose     12187227.5\nsupport    47131237.0\nName: amount, dtype: float64"
          },
          "metadata": {}
        }
      ],
      "id": "28ff7319-f084-4d7c-aade-c04956a28583"
    },
    {
      "cell_type": "code",
      "source": "my_contribs.groupby([\"contributor_lastname\", \"position\"]).amount.sum() # groupby doesn't return dataframe, return annotated series",
      "metadata": {
        "trusted": true
      },
      "execution_count": 102,
      "outputs": [
        {
          "execution_count": 102,
          "output_type": "execute_result",
          "data": {
            "text/plain": "contributor_lastname                                     position\nABBEY                                                    oppose       10000.0\nATWATER                                                  oppose      200000.0\nBAKER JR.                                                oppose      506736.0\nBARGER                                                   oppose       25000.0\nBARNUM                                                   oppose        1000.0\n                                                                       ...   \nWHITMAN                                                  oppose        2500.0\nWILSEY                                                   oppose      125000.0\nWOLFF                                                    oppose        5000.0\nWOODCLIFF CONTENT INC.                                   oppose       50000.0\nZINC COLLECTIVE LLC(RESPONSIBLE OFFICER: REBECCA LEAL )  support     200000.0\nName: amount, Length: 107, dtype: float64"
          },
          "metadata": {}
        }
      ],
      "id": "dc6822dd-1b32-440d-b67c-17211428d7f2"
    },
    {
      "cell_type": "code",
      "source": "my_contribs.groupby([\"contributor_lastname\", \"position\"]).amount.sum().reset_index().sort_values(\"amount\", ascending=False)",
      "metadata": {
        "trusted": true
      },
      "execution_count": 104,
      "outputs": [
        {
          "execution_count": 104,
          "output_type": "execute_result",
          "data": {
            "text/plain": "                                 contributor_lastname position      amount\n65                                         LYFT, INC.  support  45240000.0\n33                                             FISHER   oppose   1830000.0\n52  INTERNATIONAL BROTHERHOOD OF ELECTRICAL WORKER...  support   1000000.0\n22                                               DEAN   oppose   1000000.0\n75                                             MORITZ   oppose   1000000.0\n..                                                ...      ...         ...\n53                                             ISRAEL  support       250.0\n28                                               EDDY  support       100.0\n49                                         HOFGAARDEN   oppose       100.0\n57                                               KAMM  support       100.0\n59                                              KARSH   oppose         0.0\n\n[107 rows x 3 columns]",
            "text/html": "<div>\n<style scoped>\n    .dataframe tbody tr th:only-of-type {\n        vertical-align: middle;\n    }\n\n    .dataframe tbody tr th {\n        vertical-align: top;\n    }\n\n    .dataframe thead th {\n        text-align: right;\n    }\n</style>\n<table border=\"1\" class=\"dataframe\">\n  <thead>\n    <tr style=\"text-align: right;\">\n      <th></th>\n      <th>contributor_lastname</th>\n      <th>position</th>\n      <th>amount</th>\n    </tr>\n  </thead>\n  <tbody>\n    <tr>\n      <th>65</th>\n      <td>LYFT, INC.</td>\n      <td>support</td>\n      <td>45240000.0</td>\n    </tr>\n    <tr>\n      <th>33</th>\n      <td>FISHER</td>\n      <td>oppose</td>\n      <td>1830000.0</td>\n    </tr>\n    <tr>\n      <th>52</th>\n      <td>INTERNATIONAL BROTHERHOOD OF ELECTRICAL WORKER...</td>\n      <td>support</td>\n      <td>1000000.0</td>\n    </tr>\n    <tr>\n      <th>22</th>\n      <td>DEAN</td>\n      <td>oppose</td>\n      <td>1000000.0</td>\n    </tr>\n    <tr>\n      <th>75</th>\n      <td>MORITZ</td>\n      <td>oppose</td>\n      <td>1000000.0</td>\n    </tr>\n    <tr>\n      <th>...</th>\n      <td>...</td>\n      <td>...</td>\n      <td>...</td>\n    </tr>\n    <tr>\n      <th>53</th>\n      <td>ISRAEL</td>\n      <td>support</td>\n      <td>250.0</td>\n    </tr>\n    <tr>\n      <th>28</th>\n      <td>EDDY</td>\n      <td>support</td>\n      <td>100.0</td>\n    </tr>\n    <tr>\n      <th>49</th>\n      <td>HOFGAARDEN</td>\n      <td>oppose</td>\n      <td>100.0</td>\n    </tr>\n    <tr>\n      <th>57</th>\n      <td>KAMM</td>\n      <td>support</td>\n      <td>100.0</td>\n    </tr>\n    <tr>\n      <th>59</th>\n      <td>KARSH</td>\n      <td>oppose</td>\n      <td>0.0</td>\n    </tr>\n  </tbody>\n</table>\n<p>107 rows × 3 columns</p>\n</div>"
          },
          "metadata": {}
        }
      ],
      "id": "e2a95dea-1eb2-479f-b84b-435e4a6626a9"
    },
    {
      "cell_type": "code",
      "source": "",
      "metadata": {},
      "execution_count": null,
      "outputs": [],
      "id": "a941ee6e-8bd6-49e3-9c5e-4cfa74cd2e57"
    }
  ]
}